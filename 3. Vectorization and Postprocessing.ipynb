{
 "cells": [
  {
   "cell_type": "code",
   "execution_count": 1,
   "metadata": {},
   "outputs": [],
   "source": [
    "import numpy as np\n",
    "import rasterio\n",
    "from rasterio.windows import Window\n",
    "\n",
    "import cv2 \n",
    "import geopandas as gpd\n",
    "\n",
    "from shapely.geometry import MultiPolygon, Polygon\n",
    "from shapely.ops import cascaded_union\n",
    "from collections import defaultdict\n",
    "\n",
    "from pathlib import Path\n",
    "\n",
    "import matplotlib.pyplot as plt\n",
    "%matplotlib inline\n",
    "\n",
    "from tqdm import tqdm"
   ]
  },
  {
   "cell_type": "code",
   "execution_count": 2,
   "metadata": {},
   "outputs": [],
   "source": [
    "# creating polygons from pixel masks\n",
    "# from https://www.kaggle.com/lopuhin/full-pipeline-demo-poly-pixels-ml-poly\n",
    "\n",
    "def mask_to_polygons(mask, epsilon=10, min_area=50.):\n",
    "    # first, find contours with cv2: it's much faster than shapely\n",
    "    image, contours, hierarchy = cv2.findContours(\n",
    "        ((mask == 1) * 255).astype(np.uint8),\n",
    "        cv2.RETR_CCOMP, cv2.CHAIN_APPROX_TC89_KCOS)\n",
    "    # create approximate contours to have reasonable submission size\n",
    "#     epsi = lambda x: epsilon*cv2.arcLength(x,True)\n",
    "    approx_contours = [cv2.approxPolyDP(cnt, epsilon, True)\n",
    "                       for cnt in contours]\n",
    "    if not contours:\n",
    "        return MultiPolygon()\n",
    "    # now messy stuff to associate parent and child contours\n",
    "    cnt_children = defaultdict(list)\n",
    "    child_contours = set()\n",
    "    assert hierarchy.shape[0] == 1\n",
    "    # http://docs.opencv.org/3.1.0/d9/d8b/tutorial_py_contours_hierarchy.html\n",
    "    for idx, (_, _, _, parent_idx) in enumerate(hierarchy[0]):\n",
    "        if parent_idx != -1:\n",
    "            child_contours.add(idx)\n",
    "            cnt_children[parent_idx].append(approx_contours[idx])\n",
    "    # create actual polygons filtering by area (removes artifacts)\n",
    "    all_polygons = []\n",
    "    for idx, cnt in enumerate(approx_contours):\n",
    "        if idx not in child_contours and cv2.contourArea(cnt) >= min_area:\n",
    "            assert cnt.shape[1] == 1\n",
    "            poly = Polygon(\n",
    "                shell=cnt[:, 0, :],\n",
    "                holes=[c[:, 0, :] for c in cnt_children.get(idx, [])\n",
    "                       if cv2.contourArea(c) >= min_area])\n",
    "            all_polygons.append(poly)\n",
    "    # approximating polygons might have created invalid ones, fix them\n",
    "    all_polygons = MultiPolygon(all_polygons)\n",
    "    if not all_polygons.is_valid:\n",
    "        all_polygons = all_polygons.buffer(0)\n",
    "        # Sometimes buffer() converts a simple Multipolygon to just a Polygon,\n",
    "        # need to keep it a Multi throughout\n",
    "        if all_polygons.type == 'Polygon':\n",
    "            all_polygons = MultiPolygon([all_polygons])\n",
    "    return all_polygons"
   ]
  },
  {
   "cell_type": "code",
   "execution_count": 3,
   "metadata": {},
   "outputs": [],
   "source": [
    "INPUT = Path('/media/splash/00F2D259F2D25310/Data/final/outputs')\n",
    "COG_URL = Path('/media/splash/00F2D259F2D25310/Data/final/arid.tif')"
   ]
  },
  {
   "cell_type": "markdown",
   "metadata": {},
   "source": [
    "## If needed, reproject to EPSG:4326"
   ]
  },
  {
   "cell_type": "code",
   "execution_count": 4,
   "metadata": {},
   "outputs": [],
   "source": [
    "src_tif = 'arid1x_merged.tif'\n",
    "dst_tif = 'arid1x_merged_reproj.tif'"
   ]
  },
  {
   "cell_type": "code",
   "execution_count": 5,
   "metadata": {},
   "outputs": [
    {
     "data": {
      "text/plain": [
       "{'driver': 'GTiff',\n",
       " 'dtype': 'uint8',\n",
       " 'nodata': None,\n",
       " 'width': 6431,\n",
       " 'height': 6503,\n",
       " 'count': 3,\n",
       " 'crs': CRS.from_epsg(3785),\n",
       " 'transform': Affine(0.14931428515517545, 0.0, 8135024.072190155,\n",
       "        0.0, -0.14931402813080957, 3982066.4113659593)}"
      ]
     },
     "execution_count": 5,
     "metadata": {},
     "output_type": "execute_result"
    }
   ],
   "source": [
    "raster = rasterio.open(INPUT/src_tif,'r')\n",
    "raster.meta"
   ]
  },
  {
   "cell_type": "code",
   "execution_count": 6,
   "metadata": {},
   "outputs": [],
   "source": [
    "# https://rasterio.readthedocs.io/en/latest/topics/reproject.html\n",
    "\n",
    "from rasterio.warp import calculate_default_transform, reproject, Resampling\n",
    "\n",
    "dst_crs = 'EPSG:4326'\n",
    "\n",
    "with rasterio.open(INPUT/src_tif) as src:\n",
    "    transform, width, height = calculate_default_transform(\n",
    "        src.crs, dst_crs, src.width, src.height, *src.bounds)\n",
    "    kwargs = src.meta.copy()\n",
    "    kwargs.update({\n",
    "        'crs': dst_crs,\n",
    "        'transform': transform,\n",
    "        'width': width,\n",
    "        'height': height,\n",
    "        'compress': 'JPEG',\n",
    "        'tiled': True, \n",
    "        'blockxsize': 256, \n",
    "        'blockysize': 256\n",
    "    })\n",
    "\n",
    "    with rasterio.open(INPUT/dst_tif, 'w', **kwargs) as dst:\n",
    "        for i in range(1, src.count + 1):\n",
    "            reproject(\n",
    "                source=rasterio.band(src, i),\n",
    "                destination=rasterio.band(dst, i),\n",
    "                src_transform=src.transform,\n",
    "                src_crs=src.crs,\n",
    "                dst_transform=transform,\n",
    "                dst_crs=dst_crs,\n",
    "                resampling=Resampling.nearest,\n",
    "            )"
   ]
  },
  {
   "cell_type": "markdown",
   "metadata": {},
   "source": [
    "or with gdalwarp on CLI:"
   ]
  },
  {
   "cell_type": "code",
   "execution_count": null,
   "metadata": {},
   "outputs": [],
   "source": [
    "!gdalwarp -co compress=JPEG -co PHOTOMETRIC=YCBCR -co TILED=YES -co \"BLOCKXSIZE=256\" -co \"BLOCKYSIZE=256\" -s_srs EPSG:32737 -t_srs EPSG:4326 {INPUT}/{src_tif} {INPUT}/{dst_tif}   "
   ]
  },
  {
   "cell_type": "markdown",
   "metadata": {},
   "source": [
    "## Open and Read Windows"
   ]
  },
  {
   "cell_type": "code",
   "execution_count": 7,
   "metadata": {},
   "outputs": [],
   "source": [
    "dst_tif = 'arid1x_merged_reproj.tif'"
   ]
  },
  {
   "cell_type": "code",
   "execution_count": 8,
   "metadata": {},
   "outputs": [],
   "source": [
    "raster = rasterio.open(INPUT/dst_tif,'r')\n",
    "data = raster.read()"
   ]
  },
  {
   "cell_type": "code",
   "execution_count": 9,
   "metadata": {},
   "outputs": [
    {
     "data": {
      "text/plain": [
       "{'driver': 'GTiff',\n",
       " 'dtype': 'uint8',\n",
       " 'nodata': None,\n",
       " 'width': 6997,\n",
       " 'height': 5890,\n",
       " 'count': 3,\n",
       " 'crs': CRS.from_epsg(4326),\n",
       " 'transform': Affine(1.2328306174800615e-06, 0.0, 73.07816460728642,\n",
       "        0.0, -1.2328306174800615e-06, 33.651230626615664)}"
      ]
     },
     "execution_count": 9,
     "metadata": {},
     "output_type": "execute_result"
    }
   ],
   "source": [
    "raster.meta"
   ]
  },
  {
   "cell_type": "code",
   "execution_count": 10,
   "metadata": {},
   "outputs": [
    {
     "data": {
      "text/plain": [
       "[(256, 256), (256, 256), (256, 256)]"
      ]
     },
     "execution_count": 10,
     "metadata": {},
     "output_type": "execute_result"
    }
   ],
   "source": [
    "raster.block_shapes"
   ]
  },
  {
   "cell_type": "code",
   "execution_count": 11,
   "metadata": {},
   "outputs": [],
   "source": [
    "def pad_window(window, pad):\n",
    "    col_off, row_off, width, height = window.flatten()\n",
    "    return Window(col_off-pad//2, row_off-pad//2,width+pad,height+pad)"
   ]
  },
  {
   "cell_type": "code",
   "execution_count": 12,
   "metadata": {},
   "outputs": [],
   "source": [
    "# padded windowed reads with blocks and rasterio: https://rasterio.readthedocs.io/en/latest/topics/windowed-rw.html\n",
    "\n",
    "pad = 64\n",
    "windows = []\n",
    "for ji, window in raster.block_windows(1):\n",
    "    assert len(set(raster.block_shapes)) == 1\n",
    "    window_padded = pad_window(window, pad)\n",
    "    windows.append((ji, window_padded))"
   ]
  },
  {
   "cell_type": "code",
   "execution_count": 13,
   "metadata": {},
   "outputs": [
    {
     "data": {
      "text/plain": [
       "672"
      ]
     },
     "execution_count": 13,
     "metadata": {},
     "output_type": "execute_result"
    }
   ],
   "source": [
    "len(windows)"
   ]
  },
  {
   "cell_type": "code",
   "execution_count": 14,
   "metadata": {
    "scrolled": true
   },
   "outputs": [
    {
     "data": {
      "text/plain": [
       "[((5, 10), Window(col_off=2528, row_off=1248, width=320, height=320)),\n",
       " ((5, 11), Window(col_off=2784, row_off=1248, width=320, height=320)),\n",
       " ((5, 12), Window(col_off=3040, row_off=1248, width=320, height=320)),\n",
       " ((5, 13), Window(col_off=3296, row_off=1248, width=320, height=320)),\n",
       " ((5, 14), Window(col_off=3552, row_off=1248, width=320, height=320)),\n",
       " ((5, 15), Window(col_off=3808, row_off=1248, width=320, height=320)),\n",
       " ((5, 16), Window(col_off=4064, row_off=1248, width=320, height=320)),\n",
       " ((5, 17), Window(col_off=4320, row_off=1248, width=320, height=320)),\n",
       " ((5, 18), Window(col_off=4576, row_off=1248, width=320, height=320)),\n",
       " ((5, 19), Window(col_off=4832, row_off=1248, width=320, height=320))]"
      ]
     },
     "execution_count": 14,
     "metadata": {},
     "output_type": "execute_result"
    }
   ],
   "source": [
    "windows[150:160]"
   ]
  },
  {
   "cell_type": "code",
   "execution_count": 15,
   "metadata": {},
   "outputs": [],
   "source": [
    "def poly2coords(poly_mask, transform):\n",
    "    geo_coords = [(coord[0],coord[1])*transform for coord in poly[0].exterior.coords for poly in poly_mask]\n",
    "    return Polygon(geo_coords)"
   ]
  },
  {
   "cell_type": "code",
   "execution_count": 16,
   "metadata": {
    "scrolled": true
   },
   "outputs": [
    {
     "name": "stderr",
     "output_type": "stream",
     "text": [
      "100%|██████████| 672/672 [00:01<00:00, 662.94it/s]\n"
     ]
    }
   ],
   "source": [
    "mask_thres = 0.7\n",
    "epsilon = 10\n",
    "min_area = 100.\n",
    "erode = 5\n",
    "dilate = 7\n",
    "\n",
    "polys = []\n",
    "\n",
    "for window in tqdm(windows):\n",
    "    win_tnfm = rasterio.windows.transform(window[1], raster.meta['transform'])\n",
    "    win_img = raster.read(window=window[1])[0,:,:]\n",
    "\n",
    "    mask = win_img > (mask_thres*255)\n",
    "    # erode and dilate\n",
    "    mask = cv2.erode(mask.astype('uint8'), np.ones((erode,erode),np.uint8), iterations=1)\n",
    "    mask = cv2.dilate(mask.astype('uint8'), np.ones((dilate,dilate),np.uint8), iterations=1)\n",
    "\n",
    "    # label via connected components\n",
    "    _, instances = cv2.connectedComponents(mask.astype('uint8'))\n",
    "\n",
    "    # make polys from instances\n",
    "    uniques = list(np.unique(instances))\n",
    "    for b in uniques[1:]:\n",
    "        poly = mask_to_polygons(instances==b,epsilon, min_area)\n",
    "        try: \n",
    "            if poly.type == 'MultiPolygon': \n",
    "                geo_coords = poly2coords(poly, win_tnfm)\n",
    "                polys.append(geo_coords)\n",
    "            #else: print('not a MultiPolygon')\n",
    "        except Exception as exc: print(f\"{exc}: {window}\")"
   ]
  },
  {
   "cell_type": "code",
   "execution_count": 17,
   "metadata": {},
   "outputs": [
    {
     "data": {
      "image/svg+xml": [
       "<svg xmlns=\"http://www.w3.org/2000/svg\" xmlns:xlink=\"http://www.w3.org/1999/xlink\" width=\"100.0\" height=\"100.0\" viewBox=\"73.08036654139569 33.650764715268714 5.281446365756892e-05 0.00019705564589145297\" preserveAspectRatio=\"xMinYMin meet\"><g transform=\"matrix(1,0,0,-1,0,67.30172648618333)\"><path fill-rule=\"evenodd\" fill=\"#66cc99\" stroke=\"#555555\" stroke-width=\"3.941112917829059e-06\" opacity=\"0.6\" d=\"M 73.08041205750209,33.65095447255735 L 73.08039479787344,33.650943377081795 L 73.08037383975295,33.65083858647931 L 73.08038740088973,33.65077201362597 L 73.08041205750209,33.65078434193214 L 73.08041205750209,33.65095447255735 z\" /></g></svg>"
      ],
      "text/plain": [
       "<shapely.geometry.polygon.Polygon at 0x7f40d4799208>"
      ]
     },
     "execution_count": 17,
     "metadata": {},
     "output_type": "execute_result"
    }
   ],
   "source": [
    "polys[5]"
   ]
  },
  {
   "cell_type": "code",
   "execution_count": 18,
   "metadata": {},
   "outputs": [
    {
     "data": {
      "text/plain": [
       "357"
      ]
     },
     "execution_count": 18,
     "metadata": {},
     "output_type": "execute_result"
    }
   ],
   "source": [
    "len(polys)"
   ]
  },
  {
   "cell_type": "code",
   "execution_count": 19,
   "metadata": {},
   "outputs": [],
   "source": [
    "# dedupe windowed polys\n",
    "merged_poly = gpd.GeoDataFrame()\n",
    "merged_poly['geometry'] = gpd.GeoSeries(cascaded_union(polys))"
   ]
  },
  {
   "cell_type": "code",
   "execution_count": 20,
   "metadata": {},
   "outputs": [
    {
     "data": {
      "text/plain": [
       "<matplotlib.axes._subplots.AxesSubplot at 0x7f40d4835860>"
      ]
     },
     "execution_count": 20,
     "metadata": {},
     "output_type": "execute_result"
    },
    {
     "data": {
      "image/png": "[encoded data removed]",
      "text/plain": [
       "<Figure size 720x720 with 1 Axes>"
      ]
     },
     "metadata": {
      "needs_background": "light"
     },
     "output_type": "display_data"
    }
   ],
   "source": [
    "merged_poly['geometry'].plot(figsize=(10,10))"
   ]
  },
  {
   "cell_type": "code",
   "execution_count": 21,
   "metadata": {},
   "outputs": [],
   "source": [
    "# https://gis.stackexchange.com/questions/271733/geopandas-dissolve-overlapping-polygons\n",
    "# https://nbviewer.jupyter.org/gist/rutgerhofste/6e7c6569616c2550568b9ce9cb4716a3\n",
    "\n",
    "def explode(gdf):\n",
    "    \"\"\"    \n",
    "    Will explode the geodataframe's muti-part geometries into single \n",
    "    geometries. Each row containing a multi-part geometry will be split into\n",
    "    multiple rows with single geometries, thereby increasing the vertical size\n",
    "    of the geodataframe. The index of the input geodataframe is no longer\n",
    "    unique and is replaced with a multi-index. \n",
    "\n",
    "    The output geodataframe has an index based on two columns (multi-index) \n",
    "    i.e. 'level_0' (index of input geodataframe) and 'level_1' which is a new\n",
    "    zero-based index for each single part geometry per multi-part geometry\n",
    "    \n",
    "    Args:\n",
    "        gdf (gpd.GeoDataFrame) : input geodataframe with multi-geometries\n",
    "        \n",
    "    Returns:\n",
    "        gdf (gpd.GeoDataFrame) : exploded geodataframe with each single \n",
    "                                 geometry as a separate entry in the \n",
    "                                 geodataframe. The GeoDataFrame has a multi-\n",
    "                                 index set to columns level_0 and level_1\n",
    "        \n",
    "    \"\"\"\n",
    "    gs = gdf.explode()\n",
    "    gdf2 = gs.reset_index().rename(columns={0: 'geometry'})\n",
    "    gdf_out = gdf2.merge(gdf.drop('geometry', axis=1), left_on='level_0', right_index=True)\n",
    "    gdf_out = gdf_out.set_index(['level_0', 'level_1']).set_geometry('geometry')\n",
    "    gdf_out.crs = gdf.crs\n",
    "    return gdf_out"
   ]
  },
  {
   "cell_type": "code",
   "execution_count": 22,
   "metadata": {},
   "outputs": [],
   "source": [
    "gdf_out = explode(merged_poly)\n",
    "gdf_out = gdf_out.reset_index()"
   ]
  },
  {
   "cell_type": "code",
   "execution_count": 23,
   "metadata": {},
   "outputs": [
    {
     "data": {
      "text/html": [
       "<div>\n",
       "<style scoped>\n",
       "    .dataframe tbody tr th:only-of-type {\n",
       "        vertical-align: middle;\n",
       "    }\n",
       "\n",
       "    .dataframe tbody tr th {\n",
       "        vertical-align: top;\n",
       "    }\n",
       "\n",
       "    .dataframe thead th {\n",
       "        text-align: right;\n",
       "    }\n",
       "</style>\n",
       "<table border=\"1\" class=\"dataframe\">\n",
       "  <thead>\n",
       "    <tr style=\"text-align: right;\">\n",
       "      <th></th>\n",
       "      <th>level_0</th>\n",
       "      <th>level_1</th>\n",
       "      <th>geometry</th>\n",
       "    </tr>\n",
       "  </thead>\n",
       "  <tbody>\n",
       "    <tr>\n",
       "      <th>137</th>\n",
       "      <td>0</td>\n",
       "      <td>137</td>\n",
       "      <td>POLYGON ((73.08167443854619 33.64971041125181,...</td>\n",
       "    </tr>\n",
       "    <tr>\n",
       "      <th>138</th>\n",
       "      <td>0</td>\n",
       "      <td>138</td>\n",
       "      <td>POLYGON ((73.08048286196323 33.64842963545275,...</td>\n",
       "    </tr>\n",
       "    <tr>\n",
       "      <th>139</th>\n",
       "      <td>0</td>\n",
       "      <td>139</td>\n",
       "      <td>POLYGON ((73.08590979531148 33.64842425733259,...</td>\n",
       "    </tr>\n",
       "    <tr>\n",
       "      <th>140</th>\n",
       "      <td>0</td>\n",
       "      <td>140</td>\n",
       "      <td>POLYGON ((73.08602513530349 33.64849867396733,...</td>\n",
       "    </tr>\n",
       "    <tr>\n",
       "      <th>141</th>\n",
       "      <td>0</td>\n",
       "      <td>141</td>\n",
       "      <td>POLYGON ((73.08637402636823 33.64746556190988,...</td>\n",
       "    </tr>\n",
       "    <tr>\n",
       "      <th>142</th>\n",
       "      <td>0</td>\n",
       "      <td>142</td>\n",
       "      <td>POLYGON ((73.07970317989704 33.64744830228123,...</td>\n",
       "    </tr>\n",
       "    <tr>\n",
       "      <th>143</th>\n",
       "      <td>0</td>\n",
       "      <td>143</td>\n",
       "      <td>POLYGON ((73.08325249924476 33.64740392037901,...</td>\n",
       "    </tr>\n",
       "    <tr>\n",
       "      <th>144</th>\n",
       "      <td>0</td>\n",
       "      <td>144</td>\n",
       "      <td>POLYGON ((73.07990289845706 33.6474174815158, ...</td>\n",
       "    </tr>\n",
       "    <tr>\n",
       "      <th>145</th>\n",
       "      <td>0</td>\n",
       "      <td>145</td>\n",
       "      <td>POLYGON ((73.08633580861908 33.64752966910199,...</td>\n",
       "    </tr>\n",
       "    <tr>\n",
       "      <th>146</th>\n",
       "      <td>0</td>\n",
       "      <td>146</td>\n",
       "      <td>POLYGON ((73.08451491779707 33.647542315558, 7...</td>\n",
       "    </tr>\n",
       "  </tbody>\n",
       "</table>\n",
       "</div>"
      ],
      "text/plain": [
       "     level_0  level_1                                           geometry\n",
       "137        0      137  POLYGON ((73.08167443854619 33.64971041125181,...\n",
       "138        0      138  POLYGON ((73.08048286196323 33.64842963545275,...\n",
       "139        0      139  POLYGON ((73.08590979531148 33.64842425733259,...\n",
       "140        0      140  POLYGON ((73.08602513530349 33.64849867396733,...\n",
       "141        0      141  POLYGON ((73.08637402636823 33.64746556190988,...\n",
       "142        0      142  POLYGON ((73.07970317989704 33.64744830228123,...\n",
       "143        0      143  POLYGON ((73.08325249924476 33.64740392037901,...\n",
       "144        0      144  POLYGON ((73.07990289845706 33.6474174815158, ...\n",
       "145        0      145  POLYGON ((73.08633580861908 33.64752966910199,...\n",
       "146        0      146  POLYGON ((73.08451491779707 33.647542315558, 7..."
      ]
     },
     "execution_count": 23,
     "metadata": {},
     "output_type": "execute_result"
    }
   ],
   "source": [
    "gdf_out.tail(10)"
   ]
  },
  {
   "cell_type": "code",
   "execution_count": 24,
   "metadata": {},
   "outputs": [],
   "source": [
    "# fill holes\n",
    "gdf_out.geometry = gdf_out.geometry.apply(lambda x: Polygon([coords for coords in x.exterior.coords]))"
   ]
  },
  {
   "cell_type": "code",
   "execution_count": 25,
   "metadata": {},
   "outputs": [],
   "source": [
    "gdf_out.drop(columns=['level_0','level_1'], inplace=True)"
   ]
  },
  {
   "cell_type": "code",
   "execution_count": 26,
   "metadata": {},
   "outputs": [
    {
     "data": {
      "text/html": [
       "<div>\n",
       "<style scoped>\n",
       "    .dataframe tbody tr th:only-of-type {\n",
       "        vertical-align: middle;\n",
       "    }\n",
       "\n",
       "    .dataframe tbody tr th {\n",
       "        vertical-align: top;\n",
       "    }\n",
       "\n",
       "    .dataframe thead th {\n",
       "        text-align: right;\n",
       "    }\n",
       "</style>\n",
       "<table border=\"1\" class=\"dataframe\">\n",
       "  <thead>\n",
       "    <tr style=\"text-align: right;\">\n",
       "      <th></th>\n",
       "      <th>geometry</th>\n",
       "    </tr>\n",
       "  </thead>\n",
       "  <tbody>\n",
       "    <tr>\n",
       "      <th>0</th>\n",
       "      <td>POLYGON ((73.08295538706595 33.6439754184318, ...</td>\n",
       "    </tr>\n",
       "    <tr>\n",
       "      <th>1</th>\n",
       "      <td>POLYGON ((73.07865527387217 33.6441800683143, ...</td>\n",
       "    </tr>\n",
       "    <tr>\n",
       "      <th>2</th>\n",
       "      <td>POLYGON ((73.08394535005179 33.64416157585504,...</td>\n",
       "    </tr>\n",
       "    <tr>\n",
       "      <th>3</th>\n",
       "      <td>POLYGON ((73.08381836849819 33.64418993095924,...</td>\n",
       "    </tr>\n",
       "    <tr>\n",
       "      <th>4</th>\n",
       "      <td>POLYGON ((73.08082628858956 33.6441800683143, ...</td>\n",
       "    </tr>\n",
       "    <tr>\n",
       "      <th>5</th>\n",
       "      <td>POLYGON ((73.08228349437942 33.64417143849997,...</td>\n",
       "    </tr>\n",
       "    <tr>\n",
       "      <th>6</th>\n",
       "      <td>POLYGON ((73.07858870101883 33.64438841668865,...</td>\n",
       "    </tr>\n",
       "    <tr>\n",
       "      <th>7</th>\n",
       "      <td>POLYGON ((73.08445327626619 33.64446361935632,...</td>\n",
       "    </tr>\n",
       "    <tr>\n",
       "      <th>8</th>\n",
       "      <td>POLYGON ((73.08436204680049 33.64436992422939,...</td>\n",
       "    </tr>\n",
       "    <tr>\n",
       "      <th>9</th>\n",
       "      <td>POLYGON ((73.0832330775162 33.64415745609443, ...</td>\n",
       "    </tr>\n",
       "  </tbody>\n",
       "</table>\n",
       "</div>"
      ],
      "text/plain": [
       "                                            geometry\n",
       "0  POLYGON ((73.08295538706595 33.6439754184318, ...\n",
       "1  POLYGON ((73.07865527387217 33.6441800683143, ...\n",
       "2  POLYGON ((73.08394535005179 33.64416157585504,...\n",
       "3  POLYGON ((73.08381836849819 33.64418993095924,...\n",
       "4  POLYGON ((73.08082628858956 33.6441800683143, ...\n",
       "5  POLYGON ((73.08228349437942 33.64417143849997,...\n",
       "6  POLYGON ((73.07858870101883 33.64438841668865,...\n",
       "7  POLYGON ((73.08445327626619 33.64446361935632,...\n",
       "8  POLYGON ((73.08436204680049 33.64436992422939,...\n",
       "9  POLYGON ((73.0832330775162 33.64415745609443, ..."
      ]
     },
     "execution_count": 26,
     "metadata": {},
     "output_type": "execute_result"
    }
   ],
   "source": [
    "gdf_out.head(10)"
   ]
  },
  {
   "cell_type": "code",
   "execution_count": 27,
   "metadata": {},
   "outputs": [
    {
     "data": {
      "image/svg+xml": [
       "<svg xmlns=\"http://www.w3.org/2000/svg\" xmlns:xlink=\"http://www.w3.org/1999/xlink\" width=\"100.0\" height=\"100.0\" viewBox=\"73.08228211360914 33.64417005772968 3.6047967242325285e-05 3.728079787634897e-05\" preserveAspectRatio=\"xMinYMin meet\"><g transform=\"matrix(1,0,0,-1,0,67.28837739625723)\"><path fill-rule=\"evenodd\" fill=\"#66cc99\" stroke=\"#555555\" stroke-width=\"7.456159575269794e-07\" opacity=\"0.6\" d=\"M 73.08228349437942,33.644171438499974 L 73.08228349437942,33.64420225926541 L 73.08230568533054,33.644205957757265 L 73.08230568533054,33.64420558790808 L 73.08230815099178,33.644205957757265 L 73.0823167808061,33.644176369822446 L 73.08228349437942,33.644171438499974 z\" /></g></svg>"
      ],
      "text/plain": [
       "<shapely.geometry.polygon.Polygon at 0x7f40d29eeba8>"
      ]
     },
     "execution_count": 27,
     "metadata": {},
     "output_type": "execute_result"
    }
   ],
   "source": [
    "gdf_out.iloc[5].geometry"
   ]
  },
  {
   "cell_type": "code",
   "execution_count": 28,
   "metadata": {},
   "outputs": [
    {
     "data": {
      "image/svg+xml": [
       "<svg xmlns=\"http://www.w3.org/2000/svg\" xmlns:xlink=\"http://www.w3.org/1999/xlink\" width=\"100.0\" height=\"100.0\" viewBox=\"73.08227995372462 33.64416789996328 4.036742893731571e-05 4.1597679654614694e-05\" preserveAspectRatio=\"xMinYMin meet\"><g transform=\"matrix(1,0,0,-1,0,67.28837739760621)\"><path fill-rule=\"evenodd\" fill=\"#66cc99\" stroke=\"#555555\" stroke-width=\"8.319535930922939e-07\" opacity=\"0.6\" d=\"M 73.08228378747674,33.644169460093046 L 73.08228358640072,33.64416944061808 L 73.08228338438585,33.64416944152691 L 73.0822831834932,33.64416946281028 L 73.08228298577244,33.644169504251046 L 73.08228279324084,33.64416956542638 L 73.08228260786275,33.64416964571215 L 73.08228243152953,33.64416974428921 L 73.08228226604028,33.644169860151806 L 73.08228211308341,33.64416999211783 L 73.08228197421948,33.64417013884088 L 73.08228185086533,33.644170298823965 L 73.08228174427946,33.64417047043484 L 73.08228165554935,33.64417065192259 L 73.0822815855803,33.64417084143557 L 73.08228153508617,33.64417103704022 L 73.08228150458213,33.64417123674085 L 73.08228149437943,33.644171438499974 L 73.08228149437943,33.64420225926541 L 73.0822815044518,33.644202459735006 L 73.08228153456749,33.64420265818539 L 73.08228158442313,33.64420285261771 L 73.08228165351657,33.64420304107355 L 73.08228174115189,33.644203221654735 L 73.08228184644638,33.644203392542366 L 73.08228196833946,33.644203552015206 L 73.0822821056034,33.644203698466974 L 73.0822822568556,33.64420383042257 L 73.08228242057262,33.64420394655287 L 73.08228259510544,33.64420404568818 L 73.08228277869608,33.64420412682996 L 73.08228296949534,33.64420418916093 L 73.08228316558144,33.64420423205326 L 73.08230535653256,33.644207930545114 L 73.08230554802405,33.64420795303843 L 73.08230574079163,33.64420795698813 L 73.08230593304376,33.64420794235752 L 73.08230612299371,33.64420790928255 L 73.08230630887616,33.64420785807063 L 73.08230648896351,33.644207789197694 L 73.08230657909698,33.64420774434789 L 73.08230785431087,33.64420793562997 L 73.08230804471425,33.64420795493154 L 73.08230823609075,33.64420795594599 L 73.08230842668806,33.64420793866402 L 73.08230861476095,33.644207903243874 L 73.08230879858733,33.64420785000989 L 73.08230897648401,33.644207779449495 L 73.08230914682207,33.644207692208774 L 73.08230930804181,33.64420758908655 L 73.08230945866703,33.64420747102705 L 73.08230959731851,33.64420733911131 L 73.0823097227267,33.6442071945472 L 73.08230983374331,33.644207038658415 L 73.0823099293518,33.64420687287237 L 73.08231000867673,33.644206698707066 L 73.08231007099178,33.64420651775726 L 73.0823187008061,33.64417692982244 L 73.08231874728213,33.64417673447569 L 73.08231877393591,33.6441765354532 L 73.08231878049875,33.644176334761134 L 73.08231876690449,33.64417613442249 L 73.0823187332902,33.6441759364567 L 73.08231867999466,33.644175742859275 L 73.08231860755512,33.644175555581704 L 73.08231851670179,33.644175376511754 L 73.08231840835046,33.64417520745447 L 73.08231828359334,33.64417505011396 L 73.08231814368798,33.64417490607623 L 73.08231799004464,33.644174776793214 L 73.08231782421205,33.64417466356807 L 73.08231764786186,33.64417456754214 L 73.08231746277164,33.64417448968336 L 73.08231727080715,33.64417443077656 L 73.08231707390341,33.64417439141552 L 73.08228378747674,33.644169460093046 z\" /></g></svg>"
      ],
      "text/plain": [
       "<shapely.geometry.polygon.Polygon at 0x7f40d2ad67f0>"
      ]
     },
     "execution_count": 28,
     "metadata": {},
     "output_type": "execute_result"
    }
   ],
   "source": [
    "gdf_out.iloc[5].geometry.buffer(0.000002, cap_style=1, join_style=1)"
   ]
  },
  {
   "cell_type": "code",
   "execution_count": 29,
   "metadata": {},
   "outputs": [],
   "source": [
    "# buffer polys\n",
    "gdf_out['geometry_buffered'] = gdf_out.geometry.buffer(0.000002, cap_style=1, join_style=1)"
   ]
  },
  {
   "cell_type": "code",
   "execution_count": 30,
   "metadata": {},
   "outputs": [
    {
     "data": {
      "text/plain": [
       "Affine(811141.4381028487, 0.0, -59276727.53347101,\n",
       "       0.0, -811141.4381028487, 27295907.604403656)"
      ]
     },
     "execution_count": 30,
     "metadata": {},
     "output_type": "execute_result"
    }
   ],
   "source": [
    "~raster.meta['transform']"
   ]
  },
  {
   "cell_type": "code",
   "execution_count": 31,
   "metadata": {},
   "outputs": [],
   "source": [
    "gdf_out['coords_pixel'] = gdf_out.geometry_buffered.apply(lambda x: Polygon([np.round(coords*~raster.meta['transform']) for coords in x.exterior.coords]))"
   ]
  },
  {
   "cell_type": "code",
   "execution_count": 32,
   "metadata": {},
   "outputs": [],
   "source": [
    "gdf_out['coords_geo_rounded'] = gdf_out.geometry_buffered.apply(lambda x: Polygon([np.round(coords,6) for coords in x.exterior.coords]))"
   ]
  },
  {
   "cell_type": "code",
   "execution_count": 33,
   "metadata": {
    "scrolled": true
   },
   "outputs": [
    {
     "data": {
      "text/html": [
       "<div>\n",
       "<style scoped>\n",
       "    .dataframe tbody tr th:only-of-type {\n",
       "        vertical-align: middle;\n",
       "    }\n",
       "\n",
       "    .dataframe tbody tr th {\n",
       "        vertical-align: top;\n",
       "    }\n",
       "\n",
       "    .dataframe thead th {\n",
       "        text-align: right;\n",
       "    }\n",
       "</style>\n",
       "<table border=\"1\" class=\"dataframe\">\n",
       "  <thead>\n",
       "    <tr style=\"text-align: right;\">\n",
       "      <th></th>\n",
       "      <th>geometry</th>\n",
       "      <th>geometry_buffered</th>\n",
       "      <th>coords_pixel</th>\n",
       "      <th>coords_geo_rounded</th>\n",
       "    </tr>\n",
       "  </thead>\n",
       "  <tbody>\n",
       "    <tr>\n",
       "      <th>0</th>\n",
       "      <td>POLYGON ((73.08295538706595 33.6439754184318, ...</td>\n",
       "      <td>POLYGON ((73.08295550451 33.64397342188305, 73...</td>\n",
       "      <td>POLYGON ((3886 5887, 3886 5887, 3886 5887, 388...</td>\n",
       "      <td>POLYGON ((73.082956 33.643973, 73.082955 33.64...</td>\n",
       "    </tr>\n",
       "    <tr>\n",
       "      <th>1</th>\n",
       "      <td>POLYGON ((73.07865527387217 33.6441800683143, ...</td>\n",
       "      <td>POLYGON ((73.07865335514117 33.64418063264694,...</td>\n",
       "      <td>POLYGON ((396 5719, 396 5718, 397 5718, 397 57...</td>\n",
       "      <td>POLYGON ((73.078653 33.644181, 73.078653 33.64...</td>\n",
       "    </tr>\n",
       "    <tr>\n",
       "      <th>2</th>\n",
       "      <td>POLYGON ((73.08394535005179 33.64416157585504,...</td>\n",
       "      <td>POLYGON ((73.08394356119742 33.64416068142785,...</td>\n",
       "      <td>POLYGON ((4688 5735, 4687 5735, 4687 5734, 468...</td>\n",
       "      <td>POLYGON ((73.083944 33.644161, 73.083943 33.64...</td>\n",
       "    </tr>\n",
       "    <tr>\n",
       "      <th>3</th>\n",
       "      <td>POLYGON ((73.08381836849819 33.64418993095924,...</td>\n",
       "      <td>POLYGON ((73.08381655613191 33.64419077673016,...</td>\n",
       "      <td>POLYGON ((4585 5710, 4585 5710, 4585 5710, 458...</td>\n",
       "      <td>POLYGON ((73.083817 33.644191, 73.083817 33.64...</td>\n",
       "    </tr>\n",
       "    <tr>\n",
       "      <th>4</th>\n",
       "      <td>POLYGON ((73.08082628858956 33.6441800683143, ...</td>\n",
       "      <td>POLYGON ((73.0808243073473 33.64417979503951, ...</td>\n",
       "      <td>POLYGON ((2157 5719, 2157 5719, 2157 5719, 215...</td>\n",
       "      <td>POLYGON ((73.08082400000001 33.64418, 73.08082...</td>\n",
       "    </tr>\n",
       "  </tbody>\n",
       "</table>\n",
       "</div>"
      ],
      "text/plain": [
       "                                            geometry  \\\n",
       "0  POLYGON ((73.08295538706595 33.6439754184318, ...   \n",
       "1  POLYGON ((73.07865527387217 33.6441800683143, ...   \n",
       "2  POLYGON ((73.08394535005179 33.64416157585504,...   \n",
       "3  POLYGON ((73.08381836849819 33.64418993095924,...   \n",
       "4  POLYGON ((73.08082628858956 33.6441800683143, ...   \n",
       "\n",
       "                                   geometry_buffered  \\\n",
       "0  POLYGON ((73.08295550451 33.64397342188305, 73...   \n",
       "1  POLYGON ((73.07865335514117 33.64418063264694,...   \n",
       "2  POLYGON ((73.08394356119742 33.64416068142785,...   \n",
       "3  POLYGON ((73.08381655613191 33.64419077673016,...   \n",
       "4  POLYGON ((73.0808243073473 33.64417979503951, ...   \n",
       "\n",
       "                                        coords_pixel  \\\n",
       "0  POLYGON ((3886 5887, 3886 5887, 3886 5887, 388...   \n",
       "1  POLYGON ((396 5719, 396 5718, 397 5718, 397 57...   \n",
       "2  POLYGON ((4688 5735, 4687 5735, 4687 5734, 468...   \n",
       "3  POLYGON ((4585 5710, 4585 5710, 4585 5710, 458...   \n",
       "4  POLYGON ((2157 5719, 2157 5719, 2157 5719, 215...   \n",
       "\n",
       "                                  coords_geo_rounded  \n",
       "0  POLYGON ((73.082956 33.643973, 73.082955 33.64...  \n",
       "1  POLYGON ((73.078653 33.644181, 73.078653 33.64...  \n",
       "2  POLYGON ((73.083944 33.644161, 73.083943 33.64...  \n",
       "3  POLYGON ((73.083817 33.644191, 73.083817 33.64...  \n",
       "4  POLYGON ((73.08082400000001 33.64418, 73.08082...  "
      ]
     },
     "execution_count": 33,
     "metadata": {},
     "output_type": "execute_result"
    }
   ],
   "source": [
    "gdf_out.head()"
   ]
  },
  {
   "cell_type": "code",
   "execution_count": 34,
   "metadata": {},
   "outputs": [],
   "source": [
    "gdf_out.geometry = gdf_out.geometry_buffered"
   ]
  },
  {
   "cell_type": "code",
   "execution_count": 35,
   "metadata": {},
   "outputs": [],
   "source": [
    "gdf_out.geometry.to_file(f'/media/splash/00F2D259F2D25310/Data/final/outputs/arid.geojson', driver='GeoJSON')"
   ]
  },
  {
   "cell_type": "markdown",
   "metadata": {},
   "source": [
    "# Crop detected building images for further classifier"
   ]
  },
  {
   "cell_type": "code",
   "execution_count": null,
   "metadata": {},
   "outputs": [],
   "source": [
    "cog_rst = rasterio.open(COG_URL,'r')"
   ]
  },
  {
   "cell_type": "code",
   "execution_count": null,
   "metadata": {},
   "outputs": [],
   "source": [
    "cog_rst.meta"
   ]
  },
  {
   "cell_type": "code",
   "execution_count": null,
   "metadata": {},
   "outputs": [],
   "source": [
    "df = gpd.read_file(f'/media/splash/00F2D259F2D25310/Data/final/outputs/arid.geojson')\n",
    "df.tail()"
   ]
  },
  {
   "cell_type": "code",
   "execution_count": null,
   "metadata": {},
   "outputs": [],
   "source": [
    "cog_rst.meta['crs']['init']"
   ]
  },
  {
   "cell_type": "code",
   "execution_count": null,
   "metadata": {},
   "outputs": [],
   "source": [
    "from pyproj import Proj, transform\n",
    "\n",
    "condition = 'test'\n",
    "grid_num = '042'\n",
    "CLASSIFY = Path('/media/splash/00F2D259F2D25310/Data/final')\n",
    "CLASSIFY.mkdir(exist_ok=True)\n",
    "(CLASSIFY/f'{condition}_{grid_num}').mkdir(exist_ok=True)\n",
    "\n",
    "for i,row in tqdm(df[(df['geometry'].type=='Polygon')].iterrows()):\n",
    "    \n",
    "    poly = row['geometry'].buffer(0.00001) # padding around detection to crop\n",
    "#     print(poly.bounds)\n",
    "\n",
    "    inProj = Proj(init='epsg:4326') \n",
    "    outProj = Proj(init=cog_rst.meta['crs']['init']) # convert to cog crs\n",
    "    \n",
    "    # convert from geocoords to display window\n",
    "    minx, miny = transform(inProj,outProj,*poly.bounds[:2])\n",
    "    maxx, maxy = transform(inProj,outProj,*poly.bounds[2:])\n",
    "    ul = cog_rst.index(minx, miny)\n",
    "    lr = cog_rst.index(maxx, maxy)\n",
    "    disp_minx, disp_maxx, disp_miny, disp_maxy = lr[0], (max(ul[0],0)+1), max(ul[1],0), (lr[1]+1)\n",
    "\n",
    "    if disp_maxx-disp_minx <= 150: disp_maxx += 25; disp_minx-=25; \n",
    "    if disp_maxy-disp_miny <= 150: disp_maxy += 25; disp_miny-=25;\n",
    "\n",
    "    window = (max(disp_minx,0), disp_maxx), (max(disp_miny,0), disp_maxy)\n",
    "    data = cog_rst.read(window=window)\n",
    "    \n",
    "    pk = str(row.id).zfill(5)\n",
    "    tile_bgr = cv2.cvtColor(np.rollaxis(data,0,3), cv2.COLOR_RGB2BGR)\n",
    "    cv2.imwrite(f\"{str(CLASSIFY)}/{condition}_{grid_num}/{grid_num}_{pk}_{condition}.jpg\", tile_bgr)\n"
   ]
  },
  {
   "cell_type": "code",
   "execution_count": null,
   "metadata": {},
   "outputs": [],
   "source": []
  }
 ],
 "metadata": {
  "kernelspec": {
   "display_name": "Python [conda env:fastai1] *",
   "language": "python",
   "name": "conda-env-fastai1-py"
  },
  "language_info": {
   "codemirror_mode": {
    "name": "ipython",
    "version": 3
   },
   "file_extension": ".py",
   "mimetype": "text/x-python",
   "name": "python",
   "nbconvert_exporter": "python",
   "pygments_lexer": "ipython3",
   "version": "3.7.1"
  }
 },
 "nbformat": 4,
 "nbformat_minor": 2
}
