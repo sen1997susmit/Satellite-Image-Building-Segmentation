{
 "cells": [
  {
   "cell_type": "markdown",
   "metadata": {},
   "source": [
    "Eval scripts adapted from https://github.com/SpaceNetChallenge/utilities/tree/master/python"
   ]
  },
  {
   "cell_type": "code",
   "execution_count": null,
   "metadata": {},
   "outputs": [],
   "source": [
    "import numpy as np\n",
    "import geopandas as gpd\n",
    "import rtree\n",
    "\n",
    "from pathlib import Path\n",
    "\n",
    "import matplotlib.pyplot as plt\n",
    "import matplotlib as mpl\n",
    "%matplotlib inline\n",
    "\n",
    "from tqdm import tqdm"
   ]
  },
  {
   "cell_type": "code",
   "execution_count": null,
   "metadata": {},
   "outputs": [],
   "source": [
    "def create_rtree_from_poly(poly_list):\n",
    "    # create index\n",
    "    index = rtree.index.Index(interleaved=False)\n",
    "    for idx, building in enumerate(poly_list):\n",
    "        minx, miny, maxx, maxy = building.bounds\n",
    "        envelope = (minx, maxx, miny, maxy)\n",
    "        index.insert(idx, envelope)\n",
    "\n",
    "    return index\n",
    "\n",
    "def search_rtree(test_building, index):\n",
    "    # input test poly ogr.Geometry  and rtree index\n",
    "    if test_building.type == 'Polygon' or \\\n",
    "                    test_building.type == 'MultiPolygon':\n",
    "        minx, miny, maxx, maxy = test_building.bounds\n",
    "        envelope = (minx, maxx, miny, maxy)    \n",
    "        fidlist = index.intersection(envelope)\n",
    "    else:\n",
    "        fidlist = []\n",
    "\n",
    "    return fidlist\n"
   ]
  },
  {
   "cell_type": "code",
   "execution_count": null,
   "metadata": {},
   "outputs": [],
   "source": [
    "def iou(test_poly, truth_polys, truth_index=[]):\n",
    "    fidlistArray = []\n",
    "    iou_list = []\n",
    "    \n",
    "    if truth_index:\n",
    "        fidlist = search_rtree(test_poly, truth_index)\n",
    "\n",
    "        for fid in fidlist:\n",
    "            if not test_poly.is_valid:\n",
    "                test_poly = test_poly.buffer(0.0)\n",
    "\n",
    "            intersection_result = test_poly.intersection(truth_polys[fid].buffer(0.0))\n",
    "            fidlistArray.append(fid)\n",
    "\n",
    "            if intersection_result.type == 'Polygon' or \\\n",
    "                            intersection_result.type == 'MultiPolygon':\n",
    "                intersection_area = intersection_result.area\n",
    "                union_area = test_poly.union(truth_polys[fid].buffer(0.0)).area\n",
    "                iou_list.append(intersection_area / union_area)\n",
    "\n",
    "            else:\n",
    "                iou_list.append(0)\n",
    "\n",
    "    else:\n",
    "        for idx, truth_poly in enumerate(truth_polys):\n",
    "            if not test_poly.is_valid or not truth_poly.is_valid:\n",
    "                test_poly = test_poly.buffer(0.0)\n",
    "                truth_poly = truth_poly.buffer(0.0)\n",
    "#                 print(f'fixed geom error at {idx}')\n",
    "\n",
    "            intersection_result = test_poly.intersection(truth_poly)\n",
    "            #print(idx, intersection_result.type)\n",
    "\n",
    "            if intersection_result.type == 'Polygon' or \\\n",
    "                            intersection_result.type == 'MultiPolygon':\n",
    "                intersection_area = intersection_result.area\n",
    "                union_area = test_poly.union(truth_poly).area\n",
    "                iou_list.append(intersection_area / union_area)\n",
    "    #             print(f'found intersect at test_poly {i} with truth poly {idx}')\n",
    "    #             print(intersection_area/union_area)\n",
    "            else:    \n",
    "                iou_list.append(0)\n",
    "                \n",
    "    return iou_list, fidlistArray"
   ]
  },
  {
   "cell_type": "code",
   "execution_count": null,
   "metadata": {},
   "outputs": [],
   "source": [
    "def score(test_polys, truth_polys, threshold=0.5, truth_index=[],\n",
    "          resultGeoJsonName = [],\n",
    "          imageId = []):\n",
    "\n",
    "    # Define internal functions\n",
    "\n",
    "    # Find detections using threshold/argmax/IoU for test polygons\n",
    "    true_pos_count = 0\n",
    "    false_pos_count = 0\n",
    "    truth_poly_count = len(truth_polys)\n",
    "    \n",
    "    true_ids = []\n",
    "    false_ids = []\n",
    "\n",
    "    for idx, test_poly in tqdm(enumerate(test_polys)):\n",
    "        if truth_polys:\n",
    "            iou_list, fidlist = iou(test_poly, truth_polys, truth_index)\n",
    "            if not iou_list:\n",
    "                maxiou = 0\n",
    "            else:\n",
    "                maxiou = np.max(iou_list)\n",
    "\n",
    "#             print(maxiou, iou_list, fidlist)\n",
    "            if maxiou >= threshold:\n",
    "                true_pos_count += 1\n",
    "                true_ids.append(idx)\n",
    "                minx, miny, maxx, maxy = truth_polys[fidlist[np.argmax(iou_list)]].bounds\n",
    "                envelope = (minx, maxx, miny, maxy)   \n",
    "                truth_index.delete(fidlist[np.argmax(iou_list)], envelope)\n",
    "                #del truth_polys[fidlist[np.argmax(iou_list)]]\n",
    "            else:\n",
    "                false_pos_count += 1\n",
    "                false_ids.append(idx)\n",
    "        else:\n",
    "            false_pos_count += 1\n",
    "            false_ids.append(idx)\n",
    "\n",
    "    false_neg_count = truth_poly_count - true_pos_count\n",
    "\n",
    "    return true_pos_count, false_pos_count, false_neg_count, true_ids, false_ids"
   ]
  },
  {
   "cell_type": "code",
   "execution_count": null,
   "metadata": {},
   "outputs": [],
   "source": [
    "def evalfunction(image_id, test_polys, truth_polys, truth_index=[], resultGeoJsonName=[], threshold = 0.5):\n",
    "\n",
    "    if len(truth_polys)==0:\n",
    "        true_pos_count = 0\n",
    "        false_pos_count = len(test_polys)\n",
    "        false_neg_count = 0\n",
    "    else:\n",
    "        true_pos_count, false_pos_count, false_neg_count, true_ids, false_ids = score(test_polys, truth_polys,\n",
    "                                                                 truth_index=truth_index,\n",
    "                                                                 resultGeoJsonName=resultGeoJsonName,\n",
    "                                                                 imageId=image_id,\n",
    "                                                                 threshold=threshold\n",
    "                                                                 )\n",
    "\n",
    "\n",
    "    if (true_pos_count > 0):\n",
    "\n",
    "        precision = float(true_pos_count) / (float(true_pos_count) + float(false_pos_count))\n",
    "        recall = float(true_pos_count) / (float(true_pos_count) + float(false_neg_count))\n",
    "        F1score = 2.0 * precision * recall / (precision + recall)\n",
    "    else:\n",
    "        F1score = 0\n",
    "    return ((F1score, true_pos_count, false_pos_count, false_neg_count), true_ids, false_ids, image_id)"
   ]
  },
  {
   "cell_type": "code",
   "execution_count": null,
   "metadata": {},
   "outputs": [],
   "source": [
    "def precision_recall(true_pos_count, false_pos_count, false_neg_count):\n",
    "    precision = float(true_pos_count) / (float(true_pos_count) + float(false_pos_count))\n",
    "    recall = float(true_pos_count) / (float(true_pos_count) + float(false_neg_count))\n",
    "    return (precision, recall)"
   ]
  },
  {
   "cell_type": "code",
   "execution_count": null,
   "metadata": {},
   "outputs": [],
   "source": [
    "TRUTH = Path('znz-input')\n",
    "TEST = Path('znz-20190118')"
   ]
  },
  {
   "cell_type": "code",
   "execution_count": null,
   "metadata": {},
   "outputs": [],
   "source": [
    "df_truth = gpd.read_file(f'{str(TRUTH)}/grid_042.geojson')\n",
    "df_test = gpd.read_file(f'{str(TEST)}/grid_042_20190118_07_classes.geojson')"
   ]
  },
  {
   "cell_type": "code",
   "execution_count": null,
   "metadata": {},
   "outputs": [],
   "source": [
    "df_truth.head()"
   ]
  },
  {
   "cell_type": "code",
   "execution_count": null,
   "metadata": {},
   "outputs": [],
   "source": [
    "df_test.head()"
   ]
  },
  {
   "cell_type": "code",
   "execution_count": null,
   "metadata": {},
   "outputs": [],
   "source": [
    "df_truth.geometry.plot(figsize=(10,10))"
   ]
  },
  {
   "cell_type": "code",
   "execution_count": null,
   "metadata": {},
   "outputs": [],
   "source": [
    "df_test.geometry.plot(figsize=(10,10))"
   ]
  },
  {
   "cell_type": "code",
   "execution_count": null,
   "metadata": {},
   "outputs": [],
   "source": [
    "df_test['cat'].value_counts()"
   ]
  },
  {
   "cell_type": "code",
   "execution_count": null,
   "metadata": {},
   "outputs": [],
   "source": [
    "df_truth['condition'].value_counts()"
   ]
  },
  {
   "cell_type": "code",
   "execution_count": null,
   "metadata": {},
   "outputs": [],
   "source": [
    "cats = [('conf_foundation','Foundation'),('conf_unfinished','Incomplete'),('conf_completed','Complete')]"
   ]
  },
  {
   "cell_type": "code",
   "execution_count": null,
   "metadata": {},
   "outputs": [],
   "source": [
    "for (test_cat, truth_cat) in cats:\n",
    "    test_polys = [geom for geom in df_test[df_test['cat'] == test_cat].geometry]\n",
    "    truth_polys = [geom for geom in df_truth[df_truth['condition'] == truth_cat].geometry]\n",
    "    truth_index = create_rtree_from_poly(truth_polys)\n",
    "    scores = evalfunction(grid_num,test_polys, truth_polys, truth_index=truth_index)\n",
    "    print(truth_cat)\n",
    "    print(scores[0],precision_recall(*scores[0][1:]))"
   ]
  },
  {
   "cell_type": "code",
   "execution_count": null,
   "metadata": {},
   "outputs": [],
   "source": [
    "test_polys = [geom for geom in df_test.geometry]\n",
    "truth_polys = [geom for geom in df_truth.geometry]\n",
    "truth_index = create_rtree_from_poly(truth_polys)"
   ]
  },
  {
   "cell_type": "code",
   "execution_count": null,
   "metadata": {},
   "outputs": [],
   "source": [
    "scores = evalfunction(grid_num,test_polys, truth_polys, truth_index=truth_index)\n",
    "scores[0],precision_recall(*scores[0][1:])"
   ]
  }
 ],
 "metadata": {
  "kernelspec": {
   "display_name": "Python [conda env:fastai1] *",
   "language": "python",
   "name": "conda-env-fastai1-py"
  },
  "language_info": {
   "codemirror_mode": {
    "name": "ipython",
    "version": 3
   },
   "file_extension": ".py",
   "mimetype": "text/x-python",
   "name": "python",
   "nbconvert_exporter": "python",
   "pygments_lexer": "ipython3",
   "version": "3.7.1"
  }
 },
 "nbformat": 4,
 "nbformat_minor": 2
}
